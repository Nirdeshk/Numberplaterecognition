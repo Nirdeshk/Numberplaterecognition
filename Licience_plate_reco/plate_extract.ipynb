{
 "cells": [
  {
   "cell_type": "code",
   "execution_count": 1,
   "metadata": {
    "collapsed": true
   },
   "outputs": [],
   "source": [
    "import cv2\n",
    "import numpy as np\n",
    "import os\n",
    "import DetectChars\n",
    "import DetectPlates\n",
    "import PossiblePlate"
   ]
  },
  {
   "cell_type": "code",
   "execution_count": 2,
   "metadata": {
    "collapsed": true
   },
   "outputs": [],
   "source": [
    "# module level variables ##########################################################################\n",
    "SCALAR_BLACK = (0.0, 0.0, 0.0)\n",
    "SCALAR_WHITE = (255.0, 255.0, 255.0)\n",
    "SCALAR_YELLOW = (0.0, 255.0, 255.0)\n",
    "SCALAR_GREEN = (0.0, 255.0, 0.0)\n",
    "SCALAR_RED = (0.0, 0.0, 255.0)"
   ]
  },
  {
   "cell_type": "code",
   "execution_count": 23,
   "metadata": {
    "collapsed": true
   },
   "outputs": [],
   "source": [
    "###################################################################################################\n",
    "def drawRedRectangleAroundPlate(imgOriginalScene, licPlate):\n",
    "\n",
    "    p2fRectPoints = cv2.boxPoints(licPlate.rrLocationOfPlateInScene)            # get 4 vertices of rotated rect\n",
    "\n",
    "    cv2.line(imgOriginalScene, tuple(p2fRectPoints[0]), tuple(p2fRectPoints[1]), SCALAR_RED, 2)         # draw 4 red lines\n",
    "    cv2.line(imgOriginalScene, tuple(p2fRectPoints[1]), tuple(p2fRectPoints[2]), SCALAR_RED, 2)\n",
    "    cv2.line(imgOriginalScene, tuple(p2fRectPoints[2]), tuple(p2fRectPoints[3]), SCALAR_RED, 2)\n",
    "    cv2.line(imgOriginalScene, tuple(p2fRectPoints[3]), tuple(p2fRectPoints[0]), SCALAR_RED, 2)\n",
    "# end function\n",
    "\n",
    "###################################################################################################\n",
    "def writeLicensePlateCharsOnImage(imgOriginalScene, licPlate):\n",
    "    ptCenterOfTextAreaX = 0                             # this will be the center of the area the text will be written to\n",
    "    ptCenterOfTextAreaY = 0\n",
    "\n",
    "    ptLowerLeftTextOriginX = 0                          # this will be the bottom left of the area that the text will be written to\n",
    "    ptLowerLeftTextOriginY = 0\n",
    "\n",
    "    sceneHeight, sceneWidth, sceneNumChannels = imgOriginalScene.shape\n",
    "    plateHeight, plateWidth, plateNumChannels = licPlate.imgPlate.shape\n",
    "\n",
    "    intFontFace = cv2.FONT_HERSHEY_SIMPLEX                      # choose a plain jane font\n",
    "    fltFontScale = float(plateHeight) / 30.0                    # base font scale on height of plate area\n",
    "    intFontThickness = int(round(fltFontScale * 1.5))           # base font thickness on font scale\n",
    "\n",
    "    textSize, baseline = cv2.getTextSize(licPlate.strChars, intFontFace, fltFontScale, intFontThickness)        # call getTextSize\n",
    "\n",
    "            # unpack roatated rect into center point, width and height, and angle\n",
    "    ( (intPlateCenterX, intPlateCenterY), (intPlateWidth, intPlateHeight), fltCorrectionAngleInDeg ) = licPlate.rrLocationOfPlateInScene\n",
    "\n",
    "    intPlateCenterX = int(intPlateCenterX)              # make sure center is an integer\n",
    "    intPlateCenterY = int(intPlateCenterY)\n",
    "\n",
    "    ptCenterOfTextAreaX = int(intPlateCenterX)         # the horizontal location of the text area is the same as the plate\n",
    "\n",
    "    if intPlateCenterY < (sceneHeight * 0.75):                                                  # if the license plate is in the upper 3/4 of the image\n",
    "        ptCenterOfTextAreaY = int(round(intPlateCenterY)) + int(round(plateHeight * 1.6))      # write the chars in below the plate\n",
    "    else:                                                                                       # else if the license plate is in the lower 1/4 of the image\n",
    "        ptCenterOfTextAreaY = int(round(intPlateCenterY)) - int(round(plateHeight * 1.6))      # write the chars in above the plate\n",
    "    # end if\n",
    "\n",
    "    textSizeWidth, textSizeHeight = textSize                # unpack text size width and height\n",
    "\n",
    "    ptLowerLeftTextOriginX = int(ptCenterOfTextAreaX - (textSizeWidth / 2))           # calculate the lower left origin of the text area\n",
    "    ptLowerLeftTextOriginY = int(ptCenterOfTextAreaY + (textSizeHeight / 2))          # based on the text area center, width, and height\n",
    "\n",
    "            # write the text on the image\n",
    "    cv2.putText(imgOriginalScene, licPlate.strChars, (ptLowerLeftTextOriginX, ptLowerLeftTextOriginY), intFontFace, fltFontScale, SCALAR_YELLOW, intFontThickness)\n",
    "# end function\n"
   ]
  },
  {
   "cell_type": "code",
   "execution_count": 25,
   "metadata": {},
   "outputs": [
    {
     "name": "stdout",
     "output_type": "stream",
     "text": [
      "\n",
      "19 possible plates found\n"
     ]
    }
   ],
   "source": [
    "imgOriginalScene  = cv2.imread(\"2.png\")               # open image\n",
    "\n",
    "if imgOriginalScene is None:                            # if image was not read successfully\n",
    "    print(\"\\nerror: image not read from file \\n\\n\")      # print error message to std out\n",
    "    os.system(\"pause\")                                  # pause so user can see error message\n",
    "    #return                                              # and exit program\n",
    "# end if\n",
    "\n",
    "listOfPossiblePlates = DetectPlates.detectPlatesInScene(imgOriginalScene)           # detect plates\n",
    "\n",
    "listOfPossiblePlates = DetectChars.detectCharsInPlates(listOfPossiblePlates)        # detect chars in plates\n",
    "\n",
    "cv2.imshow(\"imgOriginalScene\", imgOriginalScene)            # show scene image\n",
    "\n",
    "if len(listOfPossiblePlates) == 0:                          # if no plates were found\n",
    "    print(\"\\nno license plates were detected\\n\")             # inform user no plates were found\n",
    "else:                                                       # else\n",
    "            # if we get in here list of possible plates has at leat one plate\n",
    "\n",
    "            # sort the list of possible plates in DESCENDING order (most number of chars to least number of chars)\n",
    "    listOfPossiblePlates.sort(key = lambda possiblePlate: len(possiblePlate.strChars), reverse = True)\n",
    "\n",
    "            # suppose the plate with the most recognized chars (the first plate in sorted by string length descending order) is the actual plate\n",
    "    licPlate = listOfPossiblePlates[0]\n",
    "\n",
    "    cv2.imshow(\"imgPlate\", licPlate.imgPlate)           # show crop of plate and threshold of plate\n",
    "    cv2.imshow(\"imgThresh\", licPlate.imgThresh)\n",
    "\n",
    "\n",
    "cv2.waitKey(0)\n",
    "cv2.destroyAllWindows()"
   ]
  },
  {
   "cell_type": "code",
   "execution_count": 14,
   "metadata": {
    "collapsed": true
   },
   "outputs": [],
   "source": []
  },
  {
   "cell_type": "code",
   "execution_count": null,
   "metadata": {
    "collapsed": true
   },
   "outputs": [],
   "source": []
  }
 ],
 "metadata": {
  "kernelspec": {
   "display_name": "Python 3",
   "language": "python",
   "name": "python3"
  },
  "language_info": {
   "codemirror_mode": {
    "name": "ipython",
    "version": 3
   },
   "file_extension": ".py",
   "mimetype": "text/x-python",
   "name": "python",
   "nbconvert_exporter": "python",
   "pygments_lexer": "ipython3",
   "version": "3.6.3"
  }
 },
 "nbformat": 4,
 "nbformat_minor": 2
}
